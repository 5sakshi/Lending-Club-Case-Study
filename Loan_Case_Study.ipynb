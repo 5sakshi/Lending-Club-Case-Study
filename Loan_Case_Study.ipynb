{
 "cells": [
  {
   "cell_type": "code",
   "execution_count": 42,
   "metadata": {},
   "outputs": [
    {
     "name": "stderr",
     "output_type": "stream",
     "text": [
      "C:\\Users\\gupta\\Anaconda3\\lib\\site-packages\\IPython\\core\\interactiveshell.py:2728: DtypeWarning: Columns (47) have mixed types. Specify dtype option on import or set low_memory=False.\n",
      "  interactivity=interactivity, compiler=compiler, result=result)\n"
     ]
    }
   ],
   "source": [
    "#Importing all required libraries\n",
    "import numpy as np\n",
    "import pandas as pd\n",
    "import matplotlib.pyplot as plt\n",
    "import seaborn as sns\n",
    "import datetime\n",
    "\n",
    "#Importing the Loan data from csv\n",
    "loan = pd.read_csv(r'C:\\Users\\gupta\\Downloads\\UpGrad_AI_ML\\Assignment_2\\Assignment_new\\loan.csv', encoding = 'UTF-8')"
   ]
  },
  {
   "cell_type": "code",
   "execution_count": 43,
   "metadata": {},
   "outputs": [
    {
     "data": {
      "image/png": "[encoded data removed]",
      "text/plain": [
       "<matplotlib.figure.Figure at 0x8871b27588>"
      ]
     },
     "metadata": {},
     "output_type": "display_data"
    }
   ],
   "source": [
    "plt.figure(figsize=(5,3))\n",
    "plt.title('Loan status vs number of Customer', fontsize=15, fontweight='bold')\n",
    "\n",
    "plt.bar(loan['loan_status'],loan['id'].count())\n",
    "\n",
    "plt.xlabel('loan status', fontsize=15)\n",
    "plt.ylabel('Number of Customer', fontsize=15)\n",
    "\n",
    "plt.show()"
   ]
  },
  {
   "cell_type": "code",
   "execution_count": 2,
   "metadata": {},
   "outputs": [
    {
     "data": {
      "text/html": [
       "<div>\n",
       "<style scoped>\n",
       "    .dataframe tbody tr th:only-of-type {\n",
       "        vertical-align: middle;\n",
       "    }\n",
       "\n",
       "    .dataframe tbody tr th {\n",
       "        vertical-align: top;\n",
       "    }\n",
       "\n",
       "    .dataframe thead th {\n",
       "        text-align: right;\n",
       "    }\n",
       "</style>\n",
       "<table border=\"1\" class=\"dataframe\">\n",
       "  <thead>\n",
       "    <tr style=\"text-align: right;\">\n",
       "      <th></th>\n",
       "      <th>index</th>\n",
       "      <th>Percent</th>\n",
       "    </tr>\n",
       "  </thead>\n",
       "  <tbody>\n",
       "    <tr>\n",
       "      <th>76</th>\n",
       "      <td>bc_open_to_buy</td>\n",
       "      <td>100.00</td>\n",
       "    </tr>\n",
       "    <tr>\n",
       "      <th>74</th>\n",
       "      <td>acc_open_past_24mths</td>\n",
       "      <td>100.00</td>\n",
       "    </tr>\n",
       "    <tr>\n",
       "      <th>77</th>\n",
       "      <td>bc_util</td>\n",
       "      <td>100.00</td>\n",
       "    </tr>\n",
       "    <tr>\n",
       "      <th>80</th>\n",
       "      <td>mo_sin_old_il_acct</td>\n",
       "      <td>100.00</td>\n",
       "    </tr>\n",
       "    <tr>\n",
       "      <th>81</th>\n",
       "      <td>mo_sin_old_rev_tl_op</td>\n",
       "      <td>100.00</td>\n",
       "    </tr>\n",
       "    <tr>\n",
       "      <th>82</th>\n",
       "      <td>mo_sin_rcnt_rev_tl_op</td>\n",
       "      <td>100.00</td>\n",
       "    </tr>\n",
       "    <tr>\n",
       "      <th>83</th>\n",
       "      <td>mo_sin_rcnt_tl</td>\n",
       "      <td>100.00</td>\n",
       "    </tr>\n",
       "    <tr>\n",
       "      <th>84</th>\n",
       "      <td>mort_acc</td>\n",
       "      <td>100.00</td>\n",
       "    </tr>\n",
       "    <tr>\n",
       "      <th>85</th>\n",
       "      <td>mths_since_recent_bc</td>\n",
       "      <td>100.00</td>\n",
       "    </tr>\n",
       "    <tr>\n",
       "      <th>86</th>\n",
       "      <td>mths_since_recent_bc_dlq</td>\n",
       "      <td>100.00</td>\n",
       "    </tr>\n",
       "    <tr>\n",
       "      <th>87</th>\n",
       "      <td>mths_since_recent_inq</td>\n",
       "      <td>100.00</td>\n",
       "    </tr>\n",
       "    <tr>\n",
       "      <th>88</th>\n",
       "      <td>mths_since_recent_revol_delinq</td>\n",
       "      <td>100.00</td>\n",
       "    </tr>\n",
       "    <tr>\n",
       "      <th>89</th>\n",
       "      <td>num_accts_ever_120_pd</td>\n",
       "      <td>100.00</td>\n",
       "    </tr>\n",
       "    <tr>\n",
       "      <th>90</th>\n",
       "      <td>num_actv_bc_tl</td>\n",
       "      <td>100.00</td>\n",
       "    </tr>\n",
       "    <tr>\n",
       "      <th>91</th>\n",
       "      <td>num_actv_rev_tl</td>\n",
       "      <td>100.00</td>\n",
       "    </tr>\n",
       "    <tr>\n",
       "      <th>92</th>\n",
       "      <td>num_bc_sats</td>\n",
       "      <td>100.00</td>\n",
       "    </tr>\n",
       "    <tr>\n",
       "      <th>93</th>\n",
       "      <td>num_bc_tl</td>\n",
       "      <td>100.00</td>\n",
       "    </tr>\n",
       "    <tr>\n",
       "      <th>94</th>\n",
       "      <td>num_il_tl</td>\n",
       "      <td>100.00</td>\n",
       "    </tr>\n",
       "    <tr>\n",
       "      <th>95</th>\n",
       "      <td>num_op_rev_tl</td>\n",
       "      <td>100.00</td>\n",
       "    </tr>\n",
       "    <tr>\n",
       "      <th>96</th>\n",
       "      <td>num_rev_accts</td>\n",
       "      <td>100.00</td>\n",
       "    </tr>\n",
       "    <tr>\n",
       "      <th>97</th>\n",
       "      <td>num_rev_tl_bal_gt_0</td>\n",
       "      <td>100.00</td>\n",
       "    </tr>\n",
       "    <tr>\n",
       "      <th>98</th>\n",
       "      <td>num_sats</td>\n",
       "      <td>100.00</td>\n",
       "    </tr>\n",
       "    <tr>\n",
       "      <th>99</th>\n",
       "      <td>num_tl_120dpd_2m</td>\n",
       "      <td>100.00</td>\n",
       "    </tr>\n",
       "    <tr>\n",
       "      <th>100</th>\n",
       "      <td>num_tl_30dpd</td>\n",
       "      <td>100.00</td>\n",
       "    </tr>\n",
       "    <tr>\n",
       "      <th>101</th>\n",
       "      <td>num_tl_90g_dpd_24m</td>\n",
       "      <td>100.00</td>\n",
       "    </tr>\n",
       "    <tr>\n",
       "      <th>102</th>\n",
       "      <td>num_tl_op_past_12m</td>\n",
       "      <td>100.00</td>\n",
       "    </tr>\n",
       "    <tr>\n",
       "      <th>103</th>\n",
       "      <td>pct_tl_nvr_dlq</td>\n",
       "      <td>100.00</td>\n",
       "    </tr>\n",
       "    <tr>\n",
       "      <th>104</th>\n",
       "      <td>percent_bc_gt_75</td>\n",
       "      <td>100.00</td>\n",
       "    </tr>\n",
       "    <tr>\n",
       "      <th>107</th>\n",
       "      <td>tot_hi_cred_lim</td>\n",
       "      <td>100.00</td>\n",
       "    </tr>\n",
       "    <tr>\n",
       "      <th>108</th>\n",
       "      <td>total_bal_ex_mort</td>\n",
       "      <td>100.00</td>\n",
       "    </tr>\n",
       "    <tr>\n",
       "      <th>...</th>\n",
       "      <td>...</td>\n",
       "      <td>...</td>\n",
       "    </tr>\n",
       "    <tr>\n",
       "      <th>55</th>\n",
       "      <td>verification_status_joint</td>\n",
       "      <td>100.00</td>\n",
       "    </tr>\n",
       "    <tr>\n",
       "      <th>57</th>\n",
       "      <td>tot_coll_amt</td>\n",
       "      <td>100.00</td>\n",
       "    </tr>\n",
       "    <tr>\n",
       "      <th>59</th>\n",
       "      <td>open_acc_6m</td>\n",
       "      <td>100.00</td>\n",
       "    </tr>\n",
       "    <tr>\n",
       "      <th>60</th>\n",
       "      <td>open_il_6m</td>\n",
       "      <td>100.00</td>\n",
       "    </tr>\n",
       "    <tr>\n",
       "      <th>61</th>\n",
       "      <td>open_il_12m</td>\n",
       "      <td>100.00</td>\n",
       "    </tr>\n",
       "    <tr>\n",
       "      <th>62</th>\n",
       "      <td>open_il_24m</td>\n",
       "      <td>100.00</td>\n",
       "    </tr>\n",
       "    <tr>\n",
       "      <th>58</th>\n",
       "      <td>tot_cur_bal</td>\n",
       "      <td>100.00</td>\n",
       "    </tr>\n",
       "    <tr>\n",
       "      <th>64</th>\n",
       "      <td>total_bal_il</td>\n",
       "      <td>100.00</td>\n",
       "    </tr>\n",
       "    <tr>\n",
       "      <th>66</th>\n",
       "      <td>open_rv_12m</td>\n",
       "      <td>100.00</td>\n",
       "    </tr>\n",
       "    <tr>\n",
       "      <th>67</th>\n",
       "      <td>open_rv_24m</td>\n",
       "      <td>100.00</td>\n",
       "    </tr>\n",
       "    <tr>\n",
       "      <th>68</th>\n",
       "      <td>max_bal_bc</td>\n",
       "      <td>100.00</td>\n",
       "    </tr>\n",
       "    <tr>\n",
       "      <th>69</th>\n",
       "      <td>all_util</td>\n",
       "      <td>100.00</td>\n",
       "    </tr>\n",
       "    <tr>\n",
       "      <th>70</th>\n",
       "      <td>total_rev_hi_lim</td>\n",
       "      <td>100.00</td>\n",
       "    </tr>\n",
       "    <tr>\n",
       "      <th>71</th>\n",
       "      <td>inq_fi</td>\n",
       "      <td>100.00</td>\n",
       "    </tr>\n",
       "    <tr>\n",
       "      <th>72</th>\n",
       "      <td>total_cu_tl</td>\n",
       "      <td>100.00</td>\n",
       "    </tr>\n",
       "    <tr>\n",
       "      <th>65</th>\n",
       "      <td>il_util</td>\n",
       "      <td>100.00</td>\n",
       "    </tr>\n",
       "    <tr>\n",
       "      <th>47</th>\n",
       "      <td>next_pymnt_d</td>\n",
       "      <td>97.13</td>\n",
       "    </tr>\n",
       "    <tr>\n",
       "      <th>29</th>\n",
       "      <td>mths_since_last_record</td>\n",
       "      <td>92.99</td>\n",
       "    </tr>\n",
       "    <tr>\n",
       "      <th>28</th>\n",
       "      <td>mths_since_last_delinq</td>\n",
       "      <td>64.66</td>\n",
       "    </tr>\n",
       "    <tr>\n",
       "      <th>19</th>\n",
       "      <td>desc</td>\n",
       "      <td>32.58</td>\n",
       "    </tr>\n",
       "    <tr>\n",
       "      <th>10</th>\n",
       "      <td>emp_title</td>\n",
       "      <td>6.19</td>\n",
       "    </tr>\n",
       "    <tr>\n",
       "      <th>11</th>\n",
       "      <td>emp_length</td>\n",
       "      <td>2.71</td>\n",
       "    </tr>\n",
       "    <tr>\n",
       "      <th>105</th>\n",
       "      <td>pub_rec_bankruptcies</td>\n",
       "      <td>1.75</td>\n",
       "    </tr>\n",
       "    <tr>\n",
       "      <th>45</th>\n",
       "      <td>last_pymnt_d</td>\n",
       "      <td>0.18</td>\n",
       "    </tr>\n",
       "    <tr>\n",
       "      <th>78</th>\n",
       "      <td>chargeoff_within_12_mths</td>\n",
       "      <td>0.14</td>\n",
       "    </tr>\n",
       "    <tr>\n",
       "      <th>49</th>\n",
       "      <td>collections_12_mths_ex_med</td>\n",
       "      <td>0.14</td>\n",
       "    </tr>\n",
       "    <tr>\n",
       "      <th>33</th>\n",
       "      <td>revol_util</td>\n",
       "      <td>0.13</td>\n",
       "    </tr>\n",
       "    <tr>\n",
       "      <th>106</th>\n",
       "      <td>tax_liens</td>\n",
       "      <td>0.10</td>\n",
       "    </tr>\n",
       "    <tr>\n",
       "      <th>21</th>\n",
       "      <td>title</td>\n",
       "      <td>0.03</td>\n",
       "    </tr>\n",
       "    <tr>\n",
       "      <th>48</th>\n",
       "      <td>last_credit_pull_d</td>\n",
       "      <td>0.01</td>\n",
       "    </tr>\n",
       "  </tbody>\n",
       "</table>\n",
       "<p>68 rows × 2 columns</p>\n",
       "</div>"
      ],
      "text/plain": [
       "                              index  Percent\n",
       "76                   bc_open_to_buy   100.00\n",
       "74             acc_open_past_24mths   100.00\n",
       "77                          bc_util   100.00\n",
       "80               mo_sin_old_il_acct   100.00\n",
       "81             mo_sin_old_rev_tl_op   100.00\n",
       "82            mo_sin_rcnt_rev_tl_op   100.00\n",
       "83                   mo_sin_rcnt_tl   100.00\n",
       "84                         mort_acc   100.00\n",
       "85             mths_since_recent_bc   100.00\n",
       "86         mths_since_recent_bc_dlq   100.00\n",
       "87            mths_since_recent_inq   100.00\n",
       "88   mths_since_recent_revol_delinq   100.00\n",
       "89            num_accts_ever_120_pd   100.00\n",
       "90                   num_actv_bc_tl   100.00\n",
       "91                  num_actv_rev_tl   100.00\n",
       "92                      num_bc_sats   100.00\n",
       "93                        num_bc_tl   100.00\n",
       "94                        num_il_tl   100.00\n",
       "95                    num_op_rev_tl   100.00\n",
       "96                    num_rev_accts   100.00\n",
       "97              num_rev_tl_bal_gt_0   100.00\n",
       "98                         num_sats   100.00\n",
       "99                 num_tl_120dpd_2m   100.00\n",
       "100                    num_tl_30dpd   100.00\n",
       "101              num_tl_90g_dpd_24m   100.00\n",
       "102              num_tl_op_past_12m   100.00\n",
       "103                  pct_tl_nvr_dlq   100.00\n",
       "104                percent_bc_gt_75   100.00\n",
       "107                 tot_hi_cred_lim   100.00\n",
       "108               total_bal_ex_mort   100.00\n",
       "..                              ...      ...\n",
       "55        verification_status_joint   100.00\n",
       "57                     tot_coll_amt   100.00\n",
       "59                      open_acc_6m   100.00\n",
       "60                       open_il_6m   100.00\n",
       "61                      open_il_12m   100.00\n",
       "62                      open_il_24m   100.00\n",
       "58                      tot_cur_bal   100.00\n",
       "64                     total_bal_il   100.00\n",
       "66                      open_rv_12m   100.00\n",
       "67                      open_rv_24m   100.00\n",
       "68                       max_bal_bc   100.00\n",
       "69                         all_util   100.00\n",
       "70                 total_rev_hi_lim   100.00\n",
       "71                           inq_fi   100.00\n",
       "72                      total_cu_tl   100.00\n",
       "65                          il_util   100.00\n",
       "47                     next_pymnt_d    97.13\n",
       "29           mths_since_last_record    92.99\n",
       "28           mths_since_last_delinq    64.66\n",
       "19                             desc    32.58\n",
       "10                        emp_title     6.19\n",
       "11                       emp_length     2.71\n",
       "105            pub_rec_bankruptcies     1.75\n",
       "45                     last_pymnt_d     0.18\n",
       "78         chargeoff_within_12_mths     0.14\n",
       "49       collections_12_mths_ex_med     0.14\n",
       "33                       revol_util     0.13\n",
       "106                       tax_liens     0.10\n",
       "21                            title     0.03\n",
       "48               last_credit_pull_d     0.01\n",
       "\n",
       "[68 rows x 2 columns]"
      ]
     },
     "execution_count": 2,
     "metadata": {},
     "output_type": "execute_result"
    }
   ],
   "source": [
    "#Cleaning the imported data in order to prepare it for the analysis\n",
    "\n",
    "#Finding out remaining columns with missing values\n",
    "Drop_col = pd.DataFrame(round(100*(loan.isnull().sum()/len(loan.index)), 2))\n",
    "Drop_col = Drop_col.reset_index()\n",
    "Drop_col.rename(columns = {Drop_col.columns[1]:\"Percent\"}, inplace = True)\n",
    "\n",
    "#Separating columns with at least one missing value\n",
    "Drop_col = Drop_col.loc[(Drop_col['Percent'] > 0)]\n",
    "Drop_col.sort_values(by = 'Percent', ascending = False, inplace = True)\n",
    "Drop_col"
   ]
  },
  {
   "cell_type": "code",
   "execution_count": 3,
   "metadata": {},
   "outputs": [],
   "source": [
    "#Finding out columns with more than 90% missing values and dropping them\n",
    "rem_col = Drop_col.loc[(Drop_col['Percent'] > 90)]\n",
    "col_name = list(rem_col['index'])\n",
    "loan.drop(col_name, axis = 1, inplace = True)\n",
    "\n",
    "#Dropping 'mths_since_last_delinq' column as it has around 65% missing values and does not provide any benifit for analysis\n",
    "loan.drop(columns = 'mths_since_last_delinq', inplace = True)\n",
    "\n",
    "#Dropping columns with only 0 as all values and 'url' as duplicate\n",
    "#Dropping columns with not usefull values\n",
    "cols = ['collections_12_mths_ex_med', 'chargeoff_within_12_mths', 'tax_liens', 'pymnt_plan', 'url', 'initial_list_status', 'application_type']\n",
    "loan.drop(cols, axis = 1, inplace = True)\n",
    "\n",
    "#Dropping the rows where 'emp-lenght' is null, as we cannot assume the year of experience and we will be loosing only 3% of the rows\n",
    "loan = loan.loc[~loan['emp_length'].isnull()]\n",
    "\n",
    "#Removing the rows where 'last_pymnt_d', 'revol_util' or'last_credit_pulled_d' value is missing as missing value is only .10th% so we won't be losing much data\n",
    "loan = loan.loc[~(loan['last_pymnt_d'].isnull() | loan['revol_util'].isnull() | loan['last_credit_pull_d'].isnull())]\n",
    "\n",
    "#Filling NaN in emp_title column as Not Available since the employer is not a huege driver in the loan process\n",
    "loan['emp_title'].fillna('Not Available', inplace = True)\n",
    "\n",
    "#Filling null values in 'pub_rec_bankruptcies' column with 0 as its not a huge driving factor for the analysis\n",
    "loan['pub_rec_bankruptcies'].fillna(0, inplace = True)\n",
    "\n",
    "#Replacing null values in column desc with 'Not available'\n",
    "loan['desc'].fillna('Not Available', inplace = True)\n",
    "\n",
    "#Replacinf the missing 'title' column values to 'Not Specified'\n",
    "loan['title'].fillna('Not Specified', inplace = True)"
   ]
  },
  {
   "cell_type": "code",
   "execution_count": 4,
   "metadata": {},
   "outputs": [
    {
     "data": {
      "text/html": [
       "<div>\n",
       "<style scoped>\n",
       "    .dataframe tbody tr th:only-of-type {\n",
       "        vertical-align: middle;\n",
       "    }\n",
       "\n",
       "    .dataframe tbody tr th {\n",
       "        vertical-align: top;\n",
       "    }\n",
       "\n",
       "    .dataframe thead th {\n",
       "        text-align: right;\n",
       "    }\n",
       "</style>\n",
       "<table border=\"1\" class=\"dataframe\">\n",
       "  <thead>\n",
       "    <tr style=\"text-align: right;\">\n",
       "      <th></th>\n",
       "      <th>index</th>\n",
       "      <th>Percent</th>\n",
       "    </tr>\n",
       "  </thead>\n",
       "  <tbody>\n",
       "  </tbody>\n",
       "</table>\n",
       "</div>"
      ],
      "text/plain": [
       "Empty DataFrame\n",
       "Columns: [index, Percent]\n",
       "Index: []"
      ]
     },
     "execution_count": 4,
     "metadata": {},
     "output_type": "execute_result"
    }
   ],
   "source": [
    "#Finding out remaining columns with missing values\n",
    "Drop_col = pd.DataFrame(round(100*(loan.isnull().sum()/len(loan.index)), 2))\n",
    "Drop_col = Drop_col.reset_index()\n",
    "Drop_col.rename(columns = {Drop_col.columns[1]:\"Percent\"}, inplace = True)\n",
    "\n",
    "#Separating columns with at least one missing value\n",
    "Drop_col = Drop_col.loc[(Drop_col['Percent'] > 0)]\n",
    "Drop_col.sort_values(by = 'Percent', ascending = False, inplace = True)\n",
    "Drop_col"
   ]
  },
  {
   "cell_type": "code",
   "execution_count": 5,
   "metadata": {},
   "outputs": [],
   "source": [
    "#Standardizing 'emp_lenght' so that it could be used in the calculations\n",
    "loan['emp_length_in_years'] = loan['emp_length'].str.rstrip(' years')\n",
    "loan.drop('emp_length', axis = 1, inplace = True)\n",
    "loan.emp_length_in_years = loan.emp_length_in_years.replace({\"> 1\":\"1.10\", \"< 1\":\"0.9\", \"10+\":\"11\"})\n",
    "loan['emp_length_in_years'] = loan['emp_length_in_years'].str.strip()\n",
    "loan['emp_length_in_years'] = pd.to_numeric(loan['emp_length_in_years'])"
   ]
  },
  {
   "cell_type": "code",
   "execution_count": 6,
   "metadata": {},
   "outputs": [],
   "source": [
    "#Changing date columns in datetime format\n",
    "loan['issue_d'] = loan['issue_d'].apply(lambda x:datetime.datetime.strptime(x, '%b-%y'))\n",
    "loan['last_pymnt_d'] = loan['last_pymnt_d'].apply(lambda x:datetime.datetime.strptime(x, '%b-%y'))\n",
    "loan['last_credit_pull_d'] = loan['last_credit_pull_d'].apply(lambda x:datetime.datetime.strptime(x, '%b-%y'))"
   ]
  },
  {
   "cell_type": "code",
   "execution_count": 7,
   "metadata": {},
   "outputs": [],
   "source": [
    "#Changing 'int_rate' column to numeric\n",
    "loan['int_rate_in%'] = loan['int_rate'].str.rstrip('%')\n",
    "loan['int_rate_in%'] = pd.to_numeric(loan['int_rate_in%'])\n",
    "loan.drop('int_rate', axis = 1, inplace = True)"
   ]
  },
  {
   "cell_type": "code",
   "execution_count": 8,
   "metadata": {},
   "outputs": [],
   "source": [
    "#Changing 'term' column to numeric\n",
    "loan['term_in_months'] = loan['term'].str.rstrip(' months')\n",
    "loan['term_in_months'] = pd.to_numeric(loan['term_in_months'])\n",
    "loan.drop('term', axis = 1, inplace = True)"
   ]
  },
  {
   "cell_type": "code",
   "execution_count": 9,
   "metadata": {},
   "outputs": [],
   "source": [
    "#Changing 'revol_util' coulum to numeric\n",
    "loan['revol_util_in%'] = loan['revol_util'].str.rstrip('%')\n",
    "loan['revol_util_in%'] = pd.to_numeric(loan['revol_util_in%'])\n",
    "loan.drop('revol_util', axis = 1, inplace = True)"
   ]
  },
  {
   "cell_type": "code",
   "execution_count": 10,
   "metadata": {},
   "outputs": [],
   "source": [
    "#Removing all columns which are not useful for EDA\n",
    "drop_col = ['emp_title', 'home_ownership', 'emp_length_in_years', 'desc', 'title', 'zip_code', 'dti']\n",
    "loan.drop(drop_col, axis = 1, inplace = True)\n",
    "\n",
    "#Removing all rows with loan status as current, since it does not play much role in analysis\n",
    "loan = loan.loc[~(loan['loan_status'] == 'Current')]"
   ]
  },
  {
   "cell_type": "code",
   "execution_count": 11,
   "metadata": {},
   "outputs": [
    {
     "data": {
      "image/png": "[encoded data removed]",
      "text/plain": [
       "<matplotlib.figure.Figure at 0x8845366a58>"
      ]
     },
     "metadata": {},
     "output_type": "display_data"
    }
   ],
   "source": [
    "#Number of loans issued per year\n",
    "loan_trend = pd.DataFrame(loan.groupby(loan.issue_d.dt.year)['id'].count())\n",
    "loan_trend = loan_trend.reset_index()\n",
    "loan_trend.rename(columns = {'id':'number_of_loans'}, inplace = True)\n",
    "\n",
    "#Building graph showing number of loans issued per year\n",
    "#Setting the size of the graph\n",
    "plt.figure(figsize=(10,7))\n",
    "\n",
    "#Setting variable for y axis of the graph\n",
    "y_tick = range(0,25000,1000)\n",
    "\n",
    "#Plotting the bar graph with title\n",
    "plt.bar(loan_trend['issue_d'], loan_trend['number_of_loans'])\n",
    "plt.title('Number of loans issued per year', fontsize=20, fontweight='bold')\n",
    "\n",
    "#Setting the parameters for x and y axis\n",
    "plt.xlabel('Year', fontsize=15)\n",
    "plt.ylabel('Number of loans issued', fontsize=15)\n",
    "plt.yticks(y_tick, fontsize=10)\n",
    "plt.xticks(loan_trend['issue_d'], fontsize=10)\n",
    "\n",
    "#Printing the graph\n",
    "plt.show()"
   ]
  },
  {
   "cell_type": "code",
   "execution_count": 12,
   "metadata": {},
   "outputs": [
    {
     "data": {
      "image/png": "[encoded data removed]",
      "text/plain": [
       "<matplotlib.figure.Figure at 0x8845a220b8>"
      ]
     },
     "metadata": {},
     "output_type": "display_data"
    }
   ],
   "source": [
    "#Number of loans defaulted per year\n",
    "defaults = loan.loc[loan['loan_status'] == 'Charged Off']\n",
    "default_trend = pd.DataFrame(defaults.groupby(defaults.issue_d.dt.year)['id'].count())\n",
    "default_trend = default_trend.reset_index()\n",
    "default_trend.rename(columns = {'id':'number_of_loans'}, inplace = True)\n",
    "\n",
    "#Building graph showing number of loans defaulted per year\n",
    "#Setting the size of the graph\n",
    "plt.figure(figsize=(10,7))\n",
    "\n",
    "#Setting variable for y axis of the graph\n",
    "y_tick = range(0,4000,200)\n",
    "\n",
    "#Plotting the bar graph with title\n",
    "plt.bar(default_trend['issue_d'], default_trend['number_of_loans'])\n",
    "plt.title('Number of loans defaulted per year', fontsize=20, fontweight='bold')\n",
    "\n",
    "#Setting the parameters for x and y axis\n",
    "plt.xlabel('Year', fontsize=15)\n",
    "plt.ylabel('Number of loans defaulted', fontsize=15)\n",
    "plt.yticks(y_tick, fontsize=10)\n",
    "plt.xticks(default_trend['issue_d'], fontsize=10)\n",
    "\n",
    "#Printing the graph\n",
    "plt.show()"
   ]
  },
  {
   "cell_type": "code",
   "execution_count": 13,
   "metadata": {},
   "outputs": [
    {
     "data": {
      "image/png": "[encoded data removed]",
      "text/plain": [
       "<matplotlib.figure.Figure at 0x8845665f60>"
      ]
     },
     "metadata": {},
     "output_type": "display_data"
    }
   ],
   "source": [
    "#Finding out % of default loans each year\n",
    "default_trend['total_loans'] = pd.Series(loan_trend['number_of_loans'])\n",
    "default_trend['default_loans_in%'] = round(100*(default_trend['number_of_loans']/default_trend['total_loans']))\n",
    "\n",
    "#Building graph showing % of loans defaulted per year\n",
    "#Setting the size of the graph\n",
    "plt.figure(figsize=(10,7))\n",
    "\n",
    "#Setting variable for y axis of the graph\n",
    "y_tick = range(0,100,10)\n",
    "\n",
    "#Plotting the bar graph with title\n",
    "plt.bar(default_trend['issue_d'], default_trend['default_loans_in%'])\n",
    "plt.title('% of loans defaulted per year', fontsize=20, fontweight='bold')\n",
    "\n",
    "#Setting the parameters for x and y axis\n",
    "plt.xlabel('Year', fontsize=15)\n",
    "plt.ylabel('% of loans defaulted', fontsize=15)\n",
    "plt.yticks(y_tick, fontsize=10)\n",
    "plt.xticks(default_trend['issue_d'], fontsize=10)\n",
    "\n",
    "#Printing the graph\n",
    "plt.show()"
   ]
  },
  {
   "cell_type": "code",
   "execution_count": 14,
   "metadata": {},
   "outputs": [],
   "source": [
    "#Deriving new columns for loan amount to salary % and interest to monthly salary %\n",
    "loan['loan_to_sal%'] = round((loan['funded_amnt']/loan['annual_inc'])*100, 2)\n",
    "loan['inst_to_mthly_sal%'] = round((loan['installment']/(loan['annual_inc']/12))*100, 2)\n",
    "\n",
    "#Dividing the loan data into different annual salary groups to analyse the effect of loan amount versus annual and monthly salary\n",
    "sal_below_30K = loan.loc[loan['annual_inc'] <= 30000]\n",
    "sal_30K_to_40K = loan.loc[(loan['annual_inc'] > 30000) & (loan['annual_inc'] <= 40000)]\n",
    "sal_40K_to_50K = loan.loc[(loan['annual_inc'] > 40000) & (loan['annual_inc'] <= 50000)]\n",
    "sal_50K_to_60K = loan.loc[(loan['annual_inc'] > 50000) & (loan['annual_inc'] <= 60000)]\n",
    "sal_60K_to_70K = loan.loc[(loan['annual_inc'] > 60000) & (loan['annual_inc'] <= 70000)]\n",
    "sal_70K_to_80K = loan.loc[(loan['annual_inc'] > 70000) & (loan['annual_inc'] <= 80000)]\n",
    "sal_80K_to_90K = loan.loc[(loan['annual_inc'] > 80000) & (loan['annual_inc'] <= 90000)]\n",
    "sal_90K_to_100K = loan.loc[(loan['annual_inc'] > 90000) & (loan['annual_inc'] <= 100000)]\n",
    "sal_100K_to_500K = loan.loc[(loan['annual_inc'] > 100000) & (loan['annual_inc'] <= 500000)]\n",
    "sal_above_500K = loan.loc[loan['annual_inc'] > 500000]"
   ]
  },
  {
   "cell_type": "code",
   "execution_count": 15,
   "metadata": {},
   "outputs": [
    {
     "data": {
      "text/html": [
       "<div>\n",
       "<style scoped>\n",
       "    .dataframe tbody tr th:only-of-type {\n",
       "        vertical-align: middle;\n",
       "    }\n",
       "\n",
       "    .dataframe tbody tr th {\n",
       "        vertical-align: top;\n",
       "    }\n",
       "\n",
       "    .dataframe thead th {\n",
       "        text-align: right;\n",
       "    }\n",
       "</style>\n",
       "<table border=\"1\" class=\"dataframe\">\n",
       "  <thead>\n",
       "    <tr style=\"text-align: right;\">\n",
       "      <th></th>\n",
       "      <th>loan_to_sal%</th>\n",
       "      <th>inst_to_mthly_sal%</th>\n",
       "      <th>funded_amnt</th>\n",
       "    </tr>\n",
       "    <tr>\n",
       "      <th>loan_status</th>\n",
       "      <th></th>\n",
       "      <th></th>\n",
       "      <th></th>\n",
       "    </tr>\n",
       "  </thead>\n",
       "  <tbody>\n",
       "    <tr>\n",
       "      <th>Charged Off</th>\n",
       "      <td>26.625755</td>\n",
       "      <td>9.665673</td>\n",
       "      <td>6303.125000</td>\n",
       "    </tr>\n",
       "    <tr>\n",
       "      <th>Fully Paid</th>\n",
       "      <td>23.475478</td>\n",
       "      <td>8.778750</td>\n",
       "      <td>5583.772315</td>\n",
       "    </tr>\n",
       "  </tbody>\n",
       "</table>\n",
       "</div>"
      ],
      "text/plain": [
       "             loan_to_sal%  inst_to_mthly_sal%  funded_amnt\n",
       "loan_status                                               \n",
       "Charged Off     26.625755            9.665673  6303.125000\n",
       "Fully Paid      23.475478            8.778750  5583.772315"
      ]
     },
     "execution_count": 15,
     "metadata": {},
     "output_type": "execute_result"
    }
   ],
   "source": [
    "sal_below_30K.groupby(['loan_status'])['loan_to_sal%', 'inst_to_mthly_sal%', 'funded_amnt'].mean()"
   ]
  },
  {
   "cell_type": "code",
   "execution_count": 16,
   "metadata": {},
   "outputs": [
    {
     "data": {
      "image/png": "[encoded data removed]",
      "text/plain": [
       "<matplotlib.figure.Figure at 0x884566f828>"
      ]
     },
     "metadata": {},
     "output_type": "display_data"
    }
   ],
   "source": [
    "plt.figure(figsize=(5,3))\n",
    "plt.title('loan to salary percentage', fontsize=20, fontweight='bold')\n",
    "\n",
    "plt.bar(sal_below_30K['loan_status'],sal_below_30K['loan_to_sal%'])\n",
    "\n",
    "plt.xlabel('loan status', fontsize=15)\n",
    "plt.ylabel('loan to salary %', fontsize=15)\n",
    "\n",
    "plt.show()"
   ]
  },
  {
   "cell_type": "code",
   "execution_count": 17,
   "metadata": {},
   "outputs": [
    {
     "data": {
      "text/html": [
       "<div>\n",
       "<style scoped>\n",
       "    .dataframe tbody tr th:only-of-type {\n",
       "        vertical-align: middle;\n",
       "    }\n",
       "\n",
       "    .dataframe tbody tr th {\n",
       "        vertical-align: top;\n",
       "    }\n",
       "\n",
       "    .dataframe thead th {\n",
       "        text-align: right;\n",
       "    }\n",
       "</style>\n",
       "<table border=\"1\" class=\"dataframe\">\n",
       "  <thead>\n",
       "    <tr style=\"text-align: right;\">\n",
       "      <th></th>\n",
       "      <th>loan_to_sal%</th>\n",
       "      <th>inst_to_mthly_sal%</th>\n",
       "      <th>funded_amnt</th>\n",
       "    </tr>\n",
       "    <tr>\n",
       "      <th>loan_status</th>\n",
       "      <th></th>\n",
       "      <th></th>\n",
       "      <th></th>\n",
       "    </tr>\n",
       "  </thead>\n",
       "  <tbody>\n",
       "    <tr>\n",
       "      <th>Charged Off</th>\n",
       "      <td>24.593494</td>\n",
       "      <td>8.484188</td>\n",
       "      <td>8877.617647</td>\n",
       "    </tr>\n",
       "    <tr>\n",
       "      <th>Fully Paid</th>\n",
       "      <td>21.600763</td>\n",
       "      <td>7.941311</td>\n",
       "      <td>7796.887992</td>\n",
       "    </tr>\n",
       "  </tbody>\n",
       "</table>\n",
       "</div>"
      ],
      "text/plain": [
       "             loan_to_sal%  inst_to_mthly_sal%  funded_amnt\n",
       "loan_status                                               \n",
       "Charged Off     24.593494            8.484188  8877.617647\n",
       "Fully Paid      21.600763            7.941311  7796.887992"
      ]
     },
     "execution_count": 17,
     "metadata": {},
     "output_type": "execute_result"
    }
   ],
   "source": [
    "sal_30K_to_40K.groupby(['loan_status'])['loan_to_sal%', 'inst_to_mthly_sal%', 'funded_amnt'].mean()"
   ]
  },
  {
   "cell_type": "code",
   "execution_count": 18,
   "metadata": {},
   "outputs": [
    {
     "data": {
      "image/png": "[encoded data removed]",
      "text/plain": [
       "<matplotlib.figure.Figure at 0x8846a1ccf8>"
      ]
     },
     "metadata": {},
     "output_type": "display_data"
    }
   ],
   "source": [
    "plt.figure(figsize=(5,3))\n",
    "plt.title('loan to salary percentage', fontsize=15, fontweight='bold')\n",
    "\n",
    "plt.bar(sal_30K_to_40K['loan_status'],sal_30K_to_40K['loan_to_sal%'])\n",
    "\n",
    "plt.xlabel('loan status', fontsize=15)\n",
    "plt.ylabel('loan to salary %', fontsize=15)\n",
    "\n",
    "plt.show()"
   ]
  },
  {
   "cell_type": "code",
   "execution_count": 19,
   "metadata": {},
   "outputs": [
    {
     "data": {
      "text/html": [
       "<div>\n",
       "<style scoped>\n",
       "    .dataframe tbody tr th:only-of-type {\n",
       "        vertical-align: middle;\n",
       "    }\n",
       "\n",
       "    .dataframe tbody tr th {\n",
       "        vertical-align: top;\n",
       "    }\n",
       "\n",
       "    .dataframe thead th {\n",
       "        text-align: right;\n",
       "    }\n",
       "</style>\n",
       "<table border=\"1\" class=\"dataframe\">\n",
       "  <thead>\n",
       "    <tr style=\"text-align: right;\">\n",
       "      <th></th>\n",
       "      <th>loan_to_sal%</th>\n",
       "      <th>inst_to_mthly_sal%</th>\n",
       "      <th>funded_amnt</th>\n",
       "    </tr>\n",
       "    <tr>\n",
       "      <th>loan_status</th>\n",
       "      <th></th>\n",
       "      <th></th>\n",
       "      <th></th>\n",
       "    </tr>\n",
       "  </thead>\n",
       "  <tbody>\n",
       "    <tr>\n",
       "      <th>Charged Off</th>\n",
       "      <td>22.391899</td>\n",
       "      <td>7.621702</td>\n",
       "      <td>10263.655980</td>\n",
       "    </tr>\n",
       "    <tr>\n",
       "      <th>Fully Paid</th>\n",
       "      <td>19.767233</td>\n",
       "      <td>7.152300</td>\n",
       "      <td>9058.361648</td>\n",
       "    </tr>\n",
       "  </tbody>\n",
       "</table>\n",
       "</div>"
      ],
      "text/plain": [
       "             loan_to_sal%  inst_to_mthly_sal%   funded_amnt\n",
       "loan_status                                                \n",
       "Charged Off     22.391899            7.621702  10263.655980\n",
       "Fully Paid      19.767233            7.152300   9058.361648"
      ]
     },
     "execution_count": 19,
     "metadata": {},
     "output_type": "execute_result"
    }
   ],
   "source": [
    "sal_40K_to_50K.groupby(['loan_status'])['loan_to_sal%', 'inst_to_mthly_sal%', 'funded_amnt'].mean()"
   ]
  },
  {
   "cell_type": "code",
   "execution_count": 20,
   "metadata": {},
   "outputs": [
    {
     "data": {
      "image/png": "[encoded data removed]",
      "text/plain": [
       "<matplotlib.figure.Figure at 0x88456b66d8>"
      ]
     },
     "metadata": {},
     "output_type": "display_data"
    }
   ],
   "source": [
    "plt.figure(figsize=(5,3))\n",
    "plt.title('loan to salary percentage', fontsize=15, fontweight='bold')\n",
    "\n",
    "plt.bar(sal_40K_to_50K['loan_status'],sal_40K_to_50K['loan_to_sal%'])\n",
    "\n",
    "plt.xlabel('loan status', fontsize=15)\n",
    "plt.ylabel('loan to salary %', fontsize=15)\n",
    "\n",
    "plt.show()"
   ]
  },
  {
   "cell_type": "code",
   "execution_count": 21,
   "metadata": {},
   "outputs": [
    {
     "data": {
      "text/html": [
       "<div>\n",
       "<style scoped>\n",
       "    .dataframe tbody tr th:only-of-type {\n",
       "        vertical-align: middle;\n",
       "    }\n",
       "\n",
       "    .dataframe tbody tr th {\n",
       "        vertical-align: top;\n",
       "    }\n",
       "\n",
       "    .dataframe thead th {\n",
       "        text-align: right;\n",
       "    }\n",
       "</style>\n",
       "<table border=\"1\" class=\"dataframe\">\n",
       "  <thead>\n",
       "    <tr style=\"text-align: right;\">\n",
       "      <th></th>\n",
       "      <th>loan_to_sal%</th>\n",
       "      <th>inst_to_mthly_sal%</th>\n",
       "      <th>funded_amnt</th>\n",
       "    </tr>\n",
       "    <tr>\n",
       "      <th>loan_status</th>\n",
       "      <th></th>\n",
       "      <th></th>\n",
       "      <th></th>\n",
       "    </tr>\n",
       "  </thead>\n",
       "  <tbody>\n",
       "    <tr>\n",
       "      <th>Charged Off</th>\n",
       "      <td>21.739490</td>\n",
       "      <td>7.368897</td>\n",
       "      <td>12170.403321</td>\n",
       "    </tr>\n",
       "    <tr>\n",
       "      <th>Fully Paid</th>\n",
       "      <td>18.097283</td>\n",
       "      <td>6.538894</td>\n",
       "      <td>10111.337020</td>\n",
       "    </tr>\n",
       "  </tbody>\n",
       "</table>\n",
       "</div>"
      ],
      "text/plain": [
       "             loan_to_sal%  inst_to_mthly_sal%   funded_amnt\n",
       "loan_status                                                \n",
       "Charged Off     21.739490            7.368897  12170.403321\n",
       "Fully Paid      18.097283            6.538894  10111.337020"
      ]
     },
     "execution_count": 21,
     "metadata": {},
     "output_type": "execute_result"
    }
   ],
   "source": [
    "sal_50K_to_60K.groupby(['loan_status'])['loan_to_sal%', 'inst_to_mthly_sal%', 'funded_amnt'].mean()"
   ]
  },
  {
   "cell_type": "code",
   "execution_count": 22,
   "metadata": {},
   "outputs": [
    {
     "data": {
      "image/png": "[encoded data removed]",
      "text/plain": [
       "<matplotlib.figure.Figure at 0x884e866320>"
      ]
     },
     "metadata": {},
     "output_type": "display_data"
    }
   ],
   "source": [
    "plt.figure(figsize=(5,3))\n",
    "plt.title('loan to salary percentage', fontsize=15, fontweight='bold')\n",
    "\n",
    "plt.bar(sal_50K_to_60K['loan_status'],sal_50K_to_60K['loan_to_sal%'])\n",
    "\n",
    "plt.xlabel('loan status', fontsize=15)\n",
    "plt.ylabel('loan to salary %', fontsize=15)\n",
    "\n",
    "plt.show()"
   ]
  },
  {
   "cell_type": "code",
   "execution_count": 23,
   "metadata": {},
   "outputs": [
    {
     "data": {
      "text/html": [
       "<div>\n",
       "<style scoped>\n",
       "    .dataframe tbody tr th:only-of-type {\n",
       "        vertical-align: middle;\n",
       "    }\n",
       "\n",
       "    .dataframe tbody tr th {\n",
       "        vertical-align: top;\n",
       "    }\n",
       "\n",
       "    .dataframe thead th {\n",
       "        text-align: right;\n",
       "    }\n",
       "</style>\n",
       "<table border=\"1\" class=\"dataframe\">\n",
       "  <thead>\n",
       "    <tr style=\"text-align: right;\">\n",
       "      <th></th>\n",
       "      <th>loan_to_sal%</th>\n",
       "      <th>inst_to_mthly_sal%</th>\n",
       "      <th>funded_amnt</th>\n",
       "    </tr>\n",
       "    <tr>\n",
       "      <th>loan_status</th>\n",
       "      <th></th>\n",
       "      <th></th>\n",
       "      <th></th>\n",
       "    </tr>\n",
       "  </thead>\n",
       "  <tbody>\n",
       "    <tr>\n",
       "      <th>Charged Off</th>\n",
       "      <td>20.122551</td>\n",
       "      <td>6.784507</td>\n",
       "      <td>13236.871508</td>\n",
       "    </tr>\n",
       "    <tr>\n",
       "      <th>Fully Paid</th>\n",
       "      <td>16.920520</td>\n",
       "      <td>6.092367</td>\n",
       "      <td>11122.371445</td>\n",
       "    </tr>\n",
       "  </tbody>\n",
       "</table>\n",
       "</div>"
      ],
      "text/plain": [
       "             loan_to_sal%  inst_to_mthly_sal%   funded_amnt\n",
       "loan_status                                                \n",
       "Charged Off     20.122551            6.784507  13236.871508\n",
       "Fully Paid      16.920520            6.092367  11122.371445"
      ]
     },
     "execution_count": 23,
     "metadata": {},
     "output_type": "execute_result"
    }
   ],
   "source": [
    "sal_60K_to_70K.groupby(['loan_status'])['loan_to_sal%', 'inst_to_mthly_sal%', 'funded_amnt'].mean()"
   ]
  },
  {
   "cell_type": "code",
   "execution_count": 24,
   "metadata": {},
   "outputs": [
    {
     "data": {
      "image/png": "[encoded data removed]",
      "text/plain": [
       "<matplotlib.figure.Figure at 0x8847431518>"
      ]
     },
     "metadata": {},
     "output_type": "display_data"
    }
   ],
   "source": [
    "plt.figure(figsize=(5,3))\n",
    "plt.title('loan to salary percentage', fontsize=15, fontweight='bold')\n",
    "\n",
    "plt.bar(sal_60K_to_70K['loan_status'],sal_60K_to_70K['loan_to_sal%'])\n",
    "\n",
    "plt.xlabel('loan status', fontsize=15)\n",
    "plt.ylabel('loan to salary %', fontsize=15)\n",
    "\n",
    "plt.show()"
   ]
  },
  {
   "cell_type": "code",
   "execution_count": 25,
   "metadata": {},
   "outputs": [
    {
     "data": {
      "text/html": [
       "<div>\n",
       "<style scoped>\n",
       "    .dataframe tbody tr th:only-of-type {\n",
       "        vertical-align: middle;\n",
       "    }\n",
       "\n",
       "    .dataframe tbody tr th {\n",
       "        vertical-align: top;\n",
       "    }\n",
       "\n",
       "    .dataframe thead th {\n",
       "        text-align: right;\n",
       "    }\n",
       "</style>\n",
       "<table border=\"1\" class=\"dataframe\">\n",
       "  <thead>\n",
       "    <tr style=\"text-align: right;\">\n",
       "      <th></th>\n",
       "      <th>loan_to_sal%</th>\n",
       "      <th>inst_to_mthly_sal%</th>\n",
       "      <th>funded_amnt</th>\n",
       "    </tr>\n",
       "    <tr>\n",
       "      <th>loan_status</th>\n",
       "      <th></th>\n",
       "      <th></th>\n",
       "      <th></th>\n",
       "    </tr>\n",
       "  </thead>\n",
       "  <tbody>\n",
       "    <tr>\n",
       "      <th>Charged Off</th>\n",
       "      <td>19.551715</td>\n",
       "      <td>6.678641</td>\n",
       "      <td>14816.314031</td>\n",
       "    </tr>\n",
       "    <tr>\n",
       "      <th>Fully Paid</th>\n",
       "      <td>16.211850</td>\n",
       "      <td>5.845660</td>\n",
       "      <td>12257.869911</td>\n",
       "    </tr>\n",
       "  </tbody>\n",
       "</table>\n",
       "</div>"
      ],
      "text/plain": [
       "             loan_to_sal%  inst_to_mthly_sal%   funded_amnt\n",
       "loan_status                                                \n",
       "Charged Off     19.551715            6.678641  14816.314031\n",
       "Fully Paid      16.211850            5.845660  12257.869911"
      ]
     },
     "execution_count": 25,
     "metadata": {},
     "output_type": "execute_result"
    }
   ],
   "source": [
    "sal_70K_to_80K.groupby(['loan_status'])['loan_to_sal%', 'inst_to_mthly_sal%', 'funded_amnt'].mean()"
   ]
  },
  {
   "cell_type": "code",
   "execution_count": 26,
   "metadata": {},
   "outputs": [
    {
     "data": {
      "image/png": "[encoded data removed]",
      "text/plain": [
       "<matplotlib.figure.Figure at 0x8846c19240>"
      ]
     },
     "metadata": {},
     "output_type": "display_data"
    }
   ],
   "source": [
    "plt.figure(figsize=(5,3))\n",
    "plt.title('loan to salary percentage', fontsize=15, fontweight='bold')\n",
    "\n",
    "plt.bar(sal_70K_to_80K['loan_status'],sal_70K_to_80K['loan_to_sal%'])\n",
    "\n",
    "plt.xlabel('loan status', fontsize=15)\n",
    "plt.ylabel('loan to salary %', fontsize=15)\n",
    "\n",
    "plt.show()"
   ]
  },
  {
   "cell_type": "code",
   "execution_count": 27,
   "metadata": {},
   "outputs": [
    {
     "data": {
      "text/html": [
       "<div>\n",
       "<style scoped>\n",
       "    .dataframe tbody tr th:only-of-type {\n",
       "        vertical-align: middle;\n",
       "    }\n",
       "\n",
       "    .dataframe tbody tr th {\n",
       "        vertical-align: top;\n",
       "    }\n",
       "\n",
       "    .dataframe thead th {\n",
       "        text-align: right;\n",
       "    }\n",
       "</style>\n",
       "<table border=\"1\" class=\"dataframe\">\n",
       "  <thead>\n",
       "    <tr style=\"text-align: right;\">\n",
       "      <th></th>\n",
       "      <th>loan_to_sal%</th>\n",
       "      <th>inst_to_mthly_sal%</th>\n",
       "      <th>funded_amnt</th>\n",
       "    </tr>\n",
       "    <tr>\n",
       "      <th>loan_status</th>\n",
       "      <th></th>\n",
       "      <th></th>\n",
       "      <th></th>\n",
       "    </tr>\n",
       "  </thead>\n",
       "  <tbody>\n",
       "    <tr>\n",
       "      <th>Charged Off</th>\n",
       "      <td>19.232458</td>\n",
       "      <td>6.528956</td>\n",
       "      <td>16490.909091</td>\n",
       "    </tr>\n",
       "    <tr>\n",
       "      <th>Fully Paid</th>\n",
       "      <td>15.092502</td>\n",
       "      <td>5.409004</td>\n",
       "      <td>12927.020202</td>\n",
       "    </tr>\n",
       "  </tbody>\n",
       "</table>\n",
       "</div>"
      ],
      "text/plain": [
       "             loan_to_sal%  inst_to_mthly_sal%   funded_amnt\n",
       "loan_status                                                \n",
       "Charged Off     19.232458            6.528956  16490.909091\n",
       "Fully Paid      15.092502            5.409004  12927.020202"
      ]
     },
     "execution_count": 27,
     "metadata": {},
     "output_type": "execute_result"
    }
   ],
   "source": [
    "sal_80K_to_90K.groupby(['loan_status'])['loan_to_sal%', 'inst_to_mthly_sal%', 'funded_amnt'].mean()"
   ]
  },
  {
   "cell_type": "code",
   "execution_count": 28,
   "metadata": {},
   "outputs": [
    {
     "data": {
      "image/png": "[encoded data removed]",
      "text/plain": [
       "<matplotlib.figure.Figure at 0x884f7cc2b0>"
      ]
     },
     "metadata": {},
     "output_type": "display_data"
    }
   ],
   "source": [
    "plt.figure(figsize=(5,3))\n",
    "plt.title('loan to salary percentage', fontsize=15, fontweight='bold')\n",
    "\n",
    "plt.bar(sal_80K_to_90K['loan_status'],sal_80K_to_90K['loan_to_sal%'])\n",
    "\n",
    "plt.xlabel('loan status', fontsize=15)\n",
    "plt.ylabel('loan to salary %', fontsize=15)\n",
    "\n",
    "plt.show()"
   ]
  },
  {
   "cell_type": "code",
   "execution_count": 29,
   "metadata": {},
   "outputs": [
    {
     "data": {
      "text/html": [
       "<div>\n",
       "<style scoped>\n",
       "    .dataframe tbody tr th:only-of-type {\n",
       "        vertical-align: middle;\n",
       "    }\n",
       "\n",
       "    .dataframe tbody tr th {\n",
       "        vertical-align: top;\n",
       "    }\n",
       "\n",
       "    .dataframe thead th {\n",
       "        text-align: right;\n",
       "    }\n",
       "</style>\n",
       "<table border=\"1\" class=\"dataframe\">\n",
       "  <thead>\n",
       "    <tr style=\"text-align: right;\">\n",
       "      <th></th>\n",
       "      <th>loan_to_sal%</th>\n",
       "      <th>inst_to_mthly_sal%</th>\n",
       "      <th>funded_amnt</th>\n",
       "    </tr>\n",
       "    <tr>\n",
       "      <th>loan_status</th>\n",
       "      <th></th>\n",
       "      <th></th>\n",
       "      <th></th>\n",
       "    </tr>\n",
       "  </thead>\n",
       "  <tbody>\n",
       "    <tr>\n",
       "      <th>Charged Off</th>\n",
       "      <td>16.866376</td>\n",
       "      <td>5.751697</td>\n",
       "      <td>16218.463303</td>\n",
       "    </tr>\n",
       "    <tr>\n",
       "      <th>Fully Paid</th>\n",
       "      <td>13.899728</td>\n",
       "      <td>4.978426</td>\n",
       "      <td>13367.214043</td>\n",
       "    </tr>\n",
       "  </tbody>\n",
       "</table>\n",
       "</div>"
      ],
      "text/plain": [
       "             loan_to_sal%  inst_to_mthly_sal%   funded_amnt\n",
       "loan_status                                                \n",
       "Charged Off     16.866376            5.751697  16218.463303\n",
       "Fully Paid      13.899728            4.978426  13367.214043"
      ]
     },
     "execution_count": 29,
     "metadata": {},
     "output_type": "execute_result"
    }
   ],
   "source": [
    "sal_90K_to_100K.groupby(['loan_status'])['loan_to_sal%', 'inst_to_mthly_sal%', 'funded_amnt'].mean()"
   ]
  },
  {
   "cell_type": "code",
   "execution_count": 30,
   "metadata": {},
   "outputs": [
    {
     "data": {
      "image/png": "[encoded data removed]",
      "text/plain": [
       "<matplotlib.figure.Figure at 0x884760da58>"
      ]
     },
     "metadata": {},
     "output_type": "display_data"
    }
   ],
   "source": [
    "plt.figure(figsize=(5,3))\n",
    "plt.title('loan to salary percentage', fontsize=15, fontweight='bold')\n",
    "\n",
    "plt.bar(sal_90K_to_100K['loan_status'],sal_90K_to_100K['loan_to_sal%'])\n",
    "\n",
    "plt.xlabel('loan status', fontsize=15)\n",
    "plt.ylabel('loan to salary %', fontsize=15)\n",
    "\n",
    "plt.show()"
   ]
  },
  {
   "cell_type": "code",
   "execution_count": 31,
   "metadata": {},
   "outputs": [
    {
     "data": {
      "text/html": [
       "<div>\n",
       "<style scoped>\n",
       "    .dataframe tbody tr th:only-of-type {\n",
       "        vertical-align: middle;\n",
       "    }\n",
       "\n",
       "    .dataframe tbody tr th {\n",
       "        vertical-align: top;\n",
       "    }\n",
       "\n",
       "    .dataframe thead th {\n",
       "        text-align: right;\n",
       "    }\n",
       "</style>\n",
       "<table border=\"1\" class=\"dataframe\">\n",
       "  <thead>\n",
       "    <tr style=\"text-align: right;\">\n",
       "      <th></th>\n",
       "      <th>loan_to_sal%</th>\n",
       "      <th>inst_to_mthly_sal%</th>\n",
       "      <th>funded_amnt</th>\n",
       "    </tr>\n",
       "    <tr>\n",
       "      <th>loan_status</th>\n",
       "      <th></th>\n",
       "      <th></th>\n",
       "      <th></th>\n",
       "    </tr>\n",
       "  </thead>\n",
       "  <tbody>\n",
       "    <tr>\n",
       "      <th>Charged Off</th>\n",
       "      <td>13.490364</td>\n",
       "      <td>4.654523</td>\n",
       "      <td>18059.618718</td>\n",
       "    </tr>\n",
       "    <tr>\n",
       "      <th>Fully Paid</th>\n",
       "      <td>11.452455</td>\n",
       "      <td>4.130196</td>\n",
       "      <td>15606.048893</td>\n",
       "    </tr>\n",
       "  </tbody>\n",
       "</table>\n",
       "</div>"
      ],
      "text/plain": [
       "             loan_to_sal%  inst_to_mthly_sal%   funded_amnt\n",
       "loan_status                                                \n",
       "Charged Off     13.490364            4.654523  18059.618718\n",
       "Fully Paid      11.452455            4.130196  15606.048893"
      ]
     },
     "execution_count": 31,
     "metadata": {},
     "output_type": "execute_result"
    }
   ],
   "source": [
    "sal_100K_to_500K.groupby(['loan_status'])['loan_to_sal%', 'inst_to_mthly_sal%', 'funded_amnt'].mean()"
   ]
  },
  {
   "cell_type": "code",
   "execution_count": 32,
   "metadata": {},
   "outputs": [
    {
     "data": {
      "image/png": "[encoded data removed]",
      "text/plain": [
       "<matplotlib.figure.Figure at 0x884e944320>"
      ]
     },
     "metadata": {},
     "output_type": "display_data"
    }
   ],
   "source": [
    "plt.figure(figsize=(5,3))\n",
    "plt.title('loan to salary percentage', fontsize=15, fontweight='bold')\n",
    "\n",
    "plt.bar(sal_100K_to_500K['loan_status'],sal_100K_to_500K['loan_to_sal%'])\n",
    "\n",
    "plt.xlabel('loan status', fontsize=15)\n",
    "plt.ylabel('loan to salary %', fontsize=15)\n",
    "\n",
    "plt.show()"
   ]
  },
  {
   "cell_type": "code",
   "execution_count": 33,
   "metadata": {},
   "outputs": [
    {
     "data": {
      "text/html": [
       "<div>\n",
       "<style scoped>\n",
       "    .dataframe tbody tr th:only-of-type {\n",
       "        vertical-align: middle;\n",
       "    }\n",
       "\n",
       "    .dataframe tbody tr th {\n",
       "        vertical-align: top;\n",
       "    }\n",
       "\n",
       "    .dataframe thead th {\n",
       "        text-align: right;\n",
       "    }\n",
       "</style>\n",
       "<table border=\"1\" class=\"dataframe\">\n",
       "  <thead>\n",
       "    <tr style=\"text-align: right;\">\n",
       "      <th></th>\n",
       "      <th>loan_to_sal%</th>\n",
       "      <th>inst_to_mthly_sal%</th>\n",
       "      <th>funded_amnt</th>\n",
       "    </tr>\n",
       "    <tr>\n",
       "      <th>loan_status</th>\n",
       "      <th></th>\n",
       "      <th></th>\n",
       "      <th></th>\n",
       "    </tr>\n",
       "  </thead>\n",
       "  <tbody>\n",
       "    <tr>\n",
       "      <th>Charged Off</th>\n",
       "      <td>2.637273</td>\n",
       "      <td>0.967273</td>\n",
       "      <td>17161.363636</td>\n",
       "    </tr>\n",
       "    <tr>\n",
       "      <th>Fully Paid</th>\n",
       "      <td>1.829074</td>\n",
       "      <td>0.660185</td>\n",
       "      <td>13687.962963</td>\n",
       "    </tr>\n",
       "  </tbody>\n",
       "</table>\n",
       "</div>"
      ],
      "text/plain": [
       "             loan_to_sal%  inst_to_mthly_sal%   funded_amnt\n",
       "loan_status                                                \n",
       "Charged Off      2.637273            0.967273  17161.363636\n",
       "Fully Paid       1.829074            0.660185  13687.962963"
      ]
     },
     "execution_count": 33,
     "metadata": {},
     "output_type": "execute_result"
    }
   ],
   "source": [
    "sal_above_500K.groupby(['loan_status'])['loan_to_sal%', 'inst_to_mthly_sal%', 'funded_amnt'].mean()"
   ]
  },
  {
   "cell_type": "code",
   "execution_count": 34,
   "metadata": {},
   "outputs": [
    {
     "data": {
      "image/png": "[encoded data removed]",
      "text/plain": [
       "<matplotlib.figure.Figure at 0x88456235c0>"
      ]
     },
     "metadata": {},
     "output_type": "display_data"
    }
   ],
   "source": [
    "plt.figure(figsize=(5,3))\n",
    "plt.title('loan to salary percentage', fontsize=15, fontweight='bold')\n",
    "\n",
    "plt.bar(sal_above_500K['loan_status'],sal_above_500K['loan_to_sal%'])\n",
    "\n",
    "plt.xlabel('loan status', fontsize=15)\n",
    "plt.ylabel('loan to salary %', fontsize=15)\n",
    "\n",
    "plt.show()"
   ]
  },
  {
   "cell_type": "code",
   "execution_count": 35,
   "metadata": {},
   "outputs": [
    {
     "data": {
      "text/html": [
       "<div>\n",
       "<style scoped>\n",
       "    .dataframe tbody tr th:only-of-type {\n",
       "        vertical-align: middle;\n",
       "    }\n",
       "\n",
       "    .dataframe tbody tr th {\n",
       "        vertical-align: top;\n",
       "    }\n",
       "\n",
       "    .dataframe thead th {\n",
       "        text-align: right;\n",
       "    }\n",
       "</style>\n",
       "<table border=\"1\" class=\"dataframe\">\n",
       "  <thead>\n",
       "    <tr style=\"text-align: right;\">\n",
       "      <th></th>\n",
       "      <th>sum</th>\n",
       "      <th>count</th>\n",
       "    </tr>\n",
       "    <tr>\n",
       "      <th>loan_status</th>\n",
       "      <th></th>\n",
       "      <th></th>\n",
       "    </tr>\n",
       "  </thead>\n",
       "  <tbody>\n",
       "    <tr>\n",
       "      <th>Charged Off</th>\n",
       "      <td>838.0</td>\n",
       "      <td>5321</td>\n",
       "    </tr>\n",
       "    <tr>\n",
       "      <th>Fully Paid</th>\n",
       "      <td>1104.0</td>\n",
       "      <td>32112</td>\n",
       "    </tr>\n",
       "  </tbody>\n",
       "</table>\n",
       "</div>"
      ],
      "text/plain": [
       "                sum  count\n",
       "loan_status               \n",
       "Charged Off   838.0   5321\n",
       "Fully Paid   1104.0  32112"
      ]
     },
     "execution_count": 35,
     "metadata": {},
     "output_type": "execute_result"
    }
   ],
   "source": [
    "#Deriving new column to show if the loan id was penalised for late fee\n",
    "loan['if_late_fee'] = loan['total_rec_late_fee']\n",
    "loan.loc[loan.if_late_fee > 0, 'if_late_fee'] = 1\n",
    "\n",
    "#Analysing if late fee is an indicator towards loan defaults\n",
    "loan.groupby('loan_status')['if_late_fee'].agg(['sum', 'count'])"
   ]
  },
  {
   "cell_type": "code",
   "execution_count": 36,
   "metadata": {},
   "outputs": [
    {
     "data": {
      "text/plain": [
       "term_in_months  loan_status\n",
       "36              Charged Off     3013\n",
       "                Fully Paid     25181\n",
       "60              Charged Off     2308\n",
       "                Fully Paid      6931\n",
       "Name: id, dtype: int64"
      ]
     },
     "execution_count": 36,
     "metadata": {},
     "output_type": "execute_result"
    }
   ],
   "source": [
    "#Analysing if number months as term has any effect on number of defaults\n",
    "loan.groupby(['term_in_months', 'loan_status'])['id'].count()"
   ]
  },
  {
   "cell_type": "code",
   "execution_count": 37,
   "metadata": {},
   "outputs": [
    {
     "data": {
      "text/plain": [
       "loan_status  grade\n",
       "Charged Off  A          552\n",
       "             B         1342\n",
       "             C         1263\n",
       "             D         1069\n",
       "             E          689\n",
       "             F          310\n",
       "             G           96\n",
       "Fully Paid   A         9101\n",
       "             B        10003\n",
       "             C         6372\n",
       "             D         3881\n",
       "             E         1913\n",
       "             F          644\n",
       "             G          198\n",
       "Name: id, dtype: int64"
      ]
     },
     "execution_count": 37,
     "metadata": {},
     "output_type": "execute_result"
    }
   ],
   "source": [
    "#Analysing the loan status with the grades on the defaults\n",
    "loan.groupby(['loan_status','grade'])['id'].count()"
   ]
  },
  {
   "cell_type": "code",
   "execution_count": 38,
   "metadata": {},
   "outputs": [
    {
     "data": {
      "text/plain": [
       "loan_status  grade  sub_grade\n",
       "Charged Off  A      A1             24\n",
       "                    A2             67\n",
       "                    A3             89\n",
       "                    A4            168\n",
       "                    A5            204\n",
       "             B      B1            152\n",
       "                    B2            210\n",
       "                    B3            324\n",
       "                    B4            312\n",
       "                    B5            344\n",
       "             C      C1            317\n",
       "                    C2            299\n",
       "                    C3            253\n",
       "                    C4            199\n",
       "                    C5            195\n",
       "             D      D1            159\n",
       "                    D2            257\n",
       "                    D3            246\n",
       "                    D4            205\n",
       "                    D5            202\n",
       "             E      E1            193\n",
       "                    E2            155\n",
       "                    E3            113\n",
       "                    E4            123\n",
       "                    E5            105\n",
       "             F      F1             89\n",
       "                    F2             66\n",
       "                    F3             50\n",
       "                    F4             52\n",
       "                    F5             53\n",
       "                                 ... \n",
       "Fully Paid   B      B1           1568\n",
       "                    B2           1733\n",
       "                    B3           2420\n",
       "                    B4           2069\n",
       "                    B5           2213\n",
       "             C      C1           1692\n",
       "                    C2           1590\n",
       "                    C3           1197\n",
       "                    C4            972\n",
       "                    C5            921\n",
       "             D      D1            749\n",
       "                    D2            992\n",
       "                    D3            838\n",
       "                    D4            695\n",
       "                    D5            607\n",
       "             E      E1            518\n",
       "                    E2            443\n",
       "                    E3            386\n",
       "                    E4            295\n",
       "                    E5            271\n",
       "             F      F1            211\n",
       "                    F2            160\n",
       "                    F3            122\n",
       "                    F4             94\n",
       "                    F5             57\n",
       "             G      G1             63\n",
       "                    G2             49\n",
       "                    G3             26\n",
       "                    G4             41\n",
       "                    G5             19\n",
       "Name: id, Length: 70, dtype: int64"
      ]
     },
     "execution_count": 38,
     "metadata": {},
     "output_type": "execute_result"
    }
   ],
   "source": [
    "loan.groupby(['loan_status','grade','sub_grade'])['id'].count()"
   ]
  }
 ],
 "metadata": {
  "kernelspec": {
   "display_name": "Python 3",
   "language": "python",
   "name": "python3"
  },
  "language_info": {
   "codemirror_mode": {
    "name": "ipython",
    "version": 3
   },
   "file_extension": ".py",
   "mimetype": "text/x-python",
   "name": "python",
   "nbconvert_exporter": "python",
   "pygments_lexer": "ipython3",
   "version": "3.6.4"
  }
 },
 "nbformat": 4,
 "nbformat_minor": 2
}
